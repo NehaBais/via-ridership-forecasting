{
 "cells": [
  {
   "cell_type": "code",
   "execution_count": 1,
   "metadata": {},
   "outputs": [],
   "source": [
    "import polars as pl\n",
    "import datetime\n",
    "import os"
   ]
  },
  {
   "cell_type": "code",
   "execution_count": 2,
   "metadata": {},
   "outputs": [],
   "source": [
    "RAW_DATA_FOLDER = \"raw_data\"\n",
    "STAGING_DATA_FOLDER = \"staging_data\""
   ]
  },
  {
   "cell_type": "code",
   "execution_count": 3,
   "metadata": {},
   "outputs": [
    {
     "data": {
      "text/html": [
       "<div><style>\n",
       ".dataframe > thead > tr,\n",
       ".dataframe > tbody > tr {\n",
       "  text-align: right;\n",
       "  white-space: pre-wrap;\n",
       "}\n",
       "</style>\n",
       "<small>shape: (5, 10)</small><table border=\"1\" class=\"dataframe\"><thead><tr><th>Date</th><th>Block</th><th>Line</th><th>Service</th><th>Direction Number</th><th>From Time</th><th>On</th><th>Off</th><th>Stop Id</th><th>Sequence</th></tr><tr><td>str</td><td>str</td><td>i64</td><td>i64</td><td>i64</td><td>i64</td><td>i64</td><td>i64</td><td>str</td><td>i64</td></tr></thead><tbody><tr><td>&quot;09/30/2016 12:…</td><td>&quot;7,080&quot;</td><td>77</td><td>1</td><td>1</td><td>59940</td><td>13</td><td>20</td><td>&quot;3,951&quot;</td><td>13</td></tr><tr><td>&quot;09/26/2016 12:…</td><td>&quot;7,771&quot;</td><td>77</td><td>1</td><td>0</td><td>67200</td><td>0</td><td>1</td><td>&quot;3,915&quot;</td><td>29</td></tr><tr><td>&quot;09/19/2016 12:…</td><td>&quot;122&quot;</td><td>72</td><td>1</td><td>0</td><td>63785</td><td>1</td><td>2</td><td>&quot;2,945&quot;</td><td>37</td></tr><tr><td>&quot;09/05/2016 12:…</td><td>&quot;6,810&quot;</td><td>68</td><td>3</td><td>0</td><td>55620</td><td>1</td><td>0</td><td>&quot;158&quot;</td><td>32</td></tr><tr><td>&quot;09/17/2016 12:…</td><td>&quot;549&quot;</td><td>522</td><td>2</td><td>1</td><td>58560</td><td>0</td><td>4</td><td>&quot;519&quot;</td><td>29</td></tr></tbody></table></div>"
      ],
      "text/plain": [
       "shape: (5, 10)\n",
       "┌────────────────────────┬───────┬──────┬─────────┬───┬─────┬─────┬─────────┬──────────┐\n",
       "│ Date                   ┆ Block ┆ Line ┆ Service ┆ … ┆ On  ┆ Off ┆ Stop Id ┆ Sequence │\n",
       "│ ---                    ┆ ---   ┆ ---  ┆ ---     ┆   ┆ --- ┆ --- ┆ ---     ┆ ---      │\n",
       "│ str                    ┆ str   ┆ i64  ┆ i64     ┆   ┆ i64 ┆ i64 ┆ str     ┆ i64      │\n",
       "╞════════════════════════╪═══════╪══════╪═════════╪═══╪═════╪═════╪═════════╪══════════╡\n",
       "│ 09/30/2016 12:00:00 AM ┆ 7,080 ┆ 77   ┆ 1       ┆ … ┆ 13  ┆ 20  ┆ 3,951   ┆ 13       │\n",
       "│ 09/26/2016 12:00:00 AM ┆ 7,771 ┆ 77   ┆ 1       ┆ … ┆ 0   ┆ 1   ┆ 3,915   ┆ 29       │\n",
       "│ 09/19/2016 12:00:00 AM ┆ 122   ┆ 72   ┆ 1       ┆ … ┆ 1   ┆ 2   ┆ 2,945   ┆ 37       │\n",
       "│ 09/05/2016 12:00:00 AM ┆ 6,810 ┆ 68   ┆ 3       ┆ … ┆ 1   ┆ 0   ┆ 158     ┆ 32       │\n",
       "│ 09/17/2016 12:00:00 AM ┆ 549   ┆ 522  ┆ 2       ┆ … ┆ 0   ┆ 4   ┆ 519     ┆ 29       │\n",
       "└────────────────────────┴───────┴──────┴─────────┴───┴─────┴─────┴─────────┴──────────┘"
      ]
     },
     "execution_count": 3,
     "metadata": {},
     "output_type": "execute_result"
    }
   ],
   "source": [
    "# Selecting only below features from the raw data because other features \n",
    "# were either not giving information \n",
    "# or were corelated with these features\n",
    "ridership = pl.scan_csv(os.path.join(RAW_DATA_FOLDER, \"Ridership.csv\")).select(\n",
    "    [\n",
    "        \"Date\",\n",
    "        \"Block\",\n",
    "        \"Line\",\n",
    "        \"Service\",\n",
    "        \"Direction Number\",\n",
    "        \"From Time\",\n",
    "        \"On\",\n",
    "        \"Off\",\n",
    "        \"Stop Id\",\n",
    "        \"Sequence\",\n",
    "    ]\n",
    ")\n",
    "ridership.head().collect()"
   ]
  },
  {
   "cell_type": "code",
   "execution_count": 4,
   "metadata": {},
   "outputs": [
    {
     "data": {
      "text/html": [
       "<div><style>\n",
       ".dataframe > thead > tr,\n",
       ".dataframe > tbody > tr {\n",
       "  text-align: right;\n",
       "  white-space: pre-wrap;\n",
       "}\n",
       "</style>\n",
       "<small>shape: (5, 10)</small><table border=\"1\" class=\"dataframe\"><thead><tr><th>Date</th><th>Block</th><th>Line</th><th>Service</th><th>Direction Number</th><th>From Time</th><th>On</th><th>Off</th><th>Stop Id</th><th>Sequence</th></tr><tr><td>str</td><td>str</td><td>i64</td><td>i64</td><td>i64</td><td>i64</td><td>i64</td><td>i64</td><td>str</td><td>i64</td></tr></thead><tbody><tr><td>&quot;08/10/2014 12:…</td><td>&quot;9,021&quot;</td><td>900</td><td>3</td><td>1</td><td>66840</td><td>-1</td><td>0</td><td>&quot;4,734&quot;</td><td>2</td></tr><tr><td>&quot;09/11/2014 12:…</td><td>&quot;9,021&quot;</td><td>900</td><td>1</td><td>1</td><td>61260</td><td>-1</td><td>0</td><td>&quot;4,733&quot;</td><td>1</td></tr><tr><td>&quot;09/11/2014 12:…</td><td>&quot;9,021&quot;</td><td>900</td><td>1</td><td>1</td><td>33660</td><td>-4</td><td>0</td><td>&quot;4,733&quot;</td><td>1</td></tr><tr><td>&quot;07/14/2014 12:…</td><td>&quot;9,021&quot;</td><td>900</td><td>1</td><td>1</td><td>35460</td><td>-1</td><td>0</td><td>&quot;4,733&quot;</td><td>1</td></tr><tr><td>&quot;07/22/2014 12:…</td><td>&quot;9,021&quot;</td><td>900</td><td>1</td><td>1</td><td>24660</td><td>-1</td><td>0</td><td>&quot;4,734&quot;</td><td>2</td></tr></tbody></table></div>"
      ],
      "text/plain": [
       "shape: (5, 10)\n",
       "┌────────────────────────┬───────┬──────┬─────────┬───┬─────┬─────┬─────────┬──────────┐\n",
       "│ Date                   ┆ Block ┆ Line ┆ Service ┆ … ┆ On  ┆ Off ┆ Stop Id ┆ Sequence │\n",
       "│ ---                    ┆ ---   ┆ ---  ┆ ---     ┆   ┆ --- ┆ --- ┆ ---     ┆ ---      │\n",
       "│ str                    ┆ str   ┆ i64  ┆ i64     ┆   ┆ i64 ┆ i64 ┆ str     ┆ i64      │\n",
       "╞════════════════════════╪═══════╪══════╪═════════╪═══╪═════╪═════╪═════════╪══════════╡\n",
       "│ 08/10/2014 12:00:00 AM ┆ 9,021 ┆ 900  ┆ 3       ┆ … ┆ -1  ┆ 0   ┆ 4,734   ┆ 2        │\n",
       "│ 09/11/2014 12:00:00 AM ┆ 9,021 ┆ 900  ┆ 1       ┆ … ┆ -1  ┆ 0   ┆ 4,733   ┆ 1        │\n",
       "│ 09/11/2014 12:00:00 AM ┆ 9,021 ┆ 900  ┆ 1       ┆ … ┆ -4  ┆ 0   ┆ 4,733   ┆ 1        │\n",
       "│ 07/14/2014 12:00:00 AM ┆ 9,021 ┆ 900  ┆ 1       ┆ … ┆ -1  ┆ 0   ┆ 4,733   ┆ 1        │\n",
       "│ 07/22/2014 12:00:00 AM ┆ 9,021 ┆ 900  ┆ 1       ┆ … ┆ -1  ┆ 0   ┆ 4,734   ┆ 2        │\n",
       "└────────────────────────┴───────┴──────┴─────────┴───┴─────┴─────┴─────────┴──────────┘"
      ]
     },
     "execution_count": 4,
     "metadata": {},
     "output_type": "execute_result"
    }
   ],
   "source": [
    "ridership.filter(pl.col(\"On\") < 0).head().collect()"
   ]
  },
  {
   "cell_type": "code",
   "execution_count": 5,
   "metadata": {},
   "outputs": [
    {
     "data": {
      "text/html": [
       "<div><style>\n",
       ".dataframe > thead > tr,\n",
       ".dataframe > tbody > tr {\n",
       "  text-align: right;\n",
       "  white-space: pre-wrap;\n",
       "}\n",
       "</style>\n",
       "<small>shape: (5, 10)</small><table border=\"1\" class=\"dataframe\"><thead><tr><th>Date</th><th>Block</th><th>Line</th><th>Service</th><th>Direction Number</th><th>From Time</th><th>Stop Id</th><th>Sequence</th><th>On</th><th>Off</th></tr><tr><td>date</td><td>u16</td><td>u16</td><td>u8</td><td>u8</td><td>u32</td><td>u16</td><td>u8</td><td>i16</td><td>i16</td></tr></thead><tbody><tr><td>2016-09-30</td><td>7080</td><td>77</td><td>1</td><td>1</td><td>59940</td><td>3951</td><td>13</td><td>13</td><td>20</td></tr><tr><td>2016-09-26</td><td>7771</td><td>77</td><td>1</td><td>0</td><td>67200</td><td>3915</td><td>29</td><td>0</td><td>1</td></tr><tr><td>2016-09-19</td><td>122</td><td>72</td><td>1</td><td>0</td><td>63785</td><td>2945</td><td>37</td><td>1</td><td>2</td></tr><tr><td>2016-09-05</td><td>6810</td><td>68</td><td>3</td><td>0</td><td>55620</td><td>158</td><td>32</td><td>1</td><td>0</td></tr><tr><td>2016-09-17</td><td>549</td><td>522</td><td>2</td><td>1</td><td>58560</td><td>519</td><td>29</td><td>0</td><td>4</td></tr></tbody></table></div>"
      ],
      "text/plain": [
       "shape: (5, 10)\n",
       "┌────────────┬───────┬──────┬─────────┬───┬─────────┬──────────┬─────┬─────┐\n",
       "│ Date       ┆ Block ┆ Line ┆ Service ┆ … ┆ Stop Id ┆ Sequence ┆ On  ┆ Off │\n",
       "│ ---        ┆ ---   ┆ ---  ┆ ---     ┆   ┆ ---     ┆ ---      ┆ --- ┆ --- │\n",
       "│ date       ┆ u16   ┆ u16  ┆ u8      ┆   ┆ u16     ┆ u8       ┆ i16 ┆ i16 │\n",
       "╞════════════╪═══════╪══════╪═════════╪═══╪═════════╪══════════╪═════╪═════╡\n",
       "│ 2016-09-30 ┆ 7080  ┆ 77   ┆ 1       ┆ … ┆ 3951    ┆ 13       ┆ 13  ┆ 20  │\n",
       "│ 2016-09-26 ┆ 7771  ┆ 77   ┆ 1       ┆ … ┆ 3915    ┆ 29       ┆ 0   ┆ 1   │\n",
       "│ 2016-09-19 ┆ 122   ┆ 72   ┆ 1       ┆ … ┆ 2945    ┆ 37       ┆ 1   ┆ 2   │\n",
       "│ 2016-09-05 ┆ 6810  ┆ 68   ┆ 3       ┆ … ┆ 158     ┆ 32       ┆ 1   ┆ 0   │\n",
       "│ 2016-09-17 ┆ 549   ┆ 522  ┆ 2       ┆ … ┆ 519     ┆ 29       ┆ 0   ┆ 4   │\n",
       "└────────────┴───────┴──────┴─────────┴───┴─────────┴──────────┴─────┴─────┘"
      ]
     },
     "execution_count": 5,
     "metadata": {},
     "output_type": "execute_result"
    }
   ],
   "source": [
    "# correcting some column datatypes\n",
    "\n",
    "ridership = ridership.with_columns(\n",
    "    pl.col(\"Date\").str.strptime(pl.Datetime, \"%m/%d/%Y %I:%M:%S %p\").dt.date(), # converting string date to date datatype\n",
    "    pl.col(\"Block\").str.replace_all(\",\", \"\").cast(pl.UInt16), # Block has numbers with comma (string - 2,112 format) removign it and cnvertign it to integer\n",
    "    pl.col(\"Line\").cast(pl.UInt16), # converting it to integer with lower prescion to preserve memory\n",
    "    pl.col(\"Service\").cast(pl.UInt8),\n",
    "    pl.col(\"Direction Number\").cast(pl.UInt8),\n",
    "    pl.col(\"From Time\").cast(pl.UInt32),\n",
    "    pl.col(\"On\").cast(pl.Int16),\n",
    "    pl.col(\"Off\").cast(pl.Int16),\n",
    "    pl.col(\"Stop Id\").str.replace_all(\",\", \"\").cast(pl.UInt16), # similar to Block\n",
    "    pl.col(\"Sequence\").cast(pl.UInt8),\n",
    ")\n",
    "\n",
    "ridership = ridership.select(\n",
    "    [\n",
    "        \"Date\",\n",
    "        \"Block\",\n",
    "        \"Line\",\n",
    "        \"Service\",\n",
    "        \"Direction Number\",\n",
    "        \"From Time\",\n",
    "        \"Stop Id\",\n",
    "        \"Sequence\",\n",
    "        \"On\",\n",
    "        \"Off\",\n",
    "    ]\n",
    ") # Giving an order to the columns\n",
    "ridership.head().collect()"
   ]
  },
  {
   "cell_type": "code",
   "execution_count": 6,
   "metadata": {},
   "outputs": [
    {
     "data": {
      "text/html": [
       "<div><style>\n",
       ".dataframe > thead > tr,\n",
       ".dataframe > tbody > tr {\n",
       "  text-align: right;\n",
       "  white-space: pre-wrap;\n",
       "}\n",
       "</style>\n",
       "<small>shape: (51, 10)</small><table border=\"1\" class=\"dataframe\"><thead><tr><th>Date</th><th>Block</th><th>Line</th><th>Service</th><th>Direction Number</th><th>From Time</th><th>Stop Id</th><th>Sequence</th><th>On</th><th>Off</th></tr><tr><td>date</td><td>u16</td><td>u16</td><td>u8</td><td>u8</td><td>u32</td><td>u16</td><td>u8</td><td>i16</td><td>i16</td></tr></thead><tbody><tr><td>2014-08-10</td><td>9021</td><td>900</td><td>3</td><td>1</td><td>66840</td><td>4734</td><td>2</td><td>-1</td><td>0</td></tr><tr><td>2014-09-11</td><td>9021</td><td>900</td><td>1</td><td>1</td><td>61260</td><td>4733</td><td>1</td><td>-1</td><td>0</td></tr><tr><td>2014-09-11</td><td>9021</td><td>900</td><td>1</td><td>1</td><td>33660</td><td>4733</td><td>1</td><td>-4</td><td>0</td></tr><tr><td>2014-07-14</td><td>9021</td><td>900</td><td>1</td><td>1</td><td>35460</td><td>4733</td><td>1</td><td>-1</td><td>0</td></tr><tr><td>2014-07-22</td><td>9021</td><td>900</td><td>1</td><td>1</td><td>24660</td><td>4734</td><td>2</td><td>-1</td><td>0</td></tr><tr><td>&hellip;</td><td>&hellip;</td><td>&hellip;</td><td>&hellip;</td><td>&hellip;</td><td>&hellip;</td><td>&hellip;</td><td>&hellip;</td><td>&hellip;</td><td>&hellip;</td></tr><tr><td>2015-04-27</td><td>9021</td><td>900</td><td>1</td><td>1</td><td>39060</td><td>4734</td><td>2</td><td>-1</td><td>0</td></tr><tr><td>2015-04-07</td><td>9021</td><td>900</td><td>1</td><td>1</td><td>35460</td><td>4733</td><td>1</td><td>-1</td><td>0</td></tr><tr><td>2015-04-13</td><td>9021</td><td>900</td><td>1</td><td>1</td><td>76860</td><td>4734</td><td>2</td><td>-2</td><td>0</td></tr><tr><td>2015-04-05</td><td>9021</td><td>900</td><td>3</td><td>1</td><td>72360</td><td>4733</td><td>1</td><td>-1</td><td>0</td></tr><tr><td>2015-05-17</td><td>9021</td><td>900</td><td>3</td><td>1</td><td>43500</td><td>4734</td><td>2</td><td>-1</td><td>0</td></tr></tbody></table></div>"
      ],
      "text/plain": [
       "shape: (51, 10)\n",
       "┌────────────┬───────┬──────┬─────────┬───┬─────────┬──────────┬─────┬─────┐\n",
       "│ Date       ┆ Block ┆ Line ┆ Service ┆ … ┆ Stop Id ┆ Sequence ┆ On  ┆ Off │\n",
       "│ ---        ┆ ---   ┆ ---  ┆ ---     ┆   ┆ ---     ┆ ---      ┆ --- ┆ --- │\n",
       "│ date       ┆ u16   ┆ u16  ┆ u8      ┆   ┆ u16     ┆ u8       ┆ i16 ┆ i16 │\n",
       "╞════════════╪═══════╪══════╪═════════╪═══╪═════════╪══════════╪═════╪═════╡\n",
       "│ 2014-08-10 ┆ 9021  ┆ 900  ┆ 3       ┆ … ┆ 4734    ┆ 2        ┆ -1  ┆ 0   │\n",
       "│ 2014-09-11 ┆ 9021  ┆ 900  ┆ 1       ┆ … ┆ 4733    ┆ 1        ┆ -1  ┆ 0   │\n",
       "│ 2014-09-11 ┆ 9021  ┆ 900  ┆ 1       ┆ … ┆ 4733    ┆ 1        ┆ -4  ┆ 0   │\n",
       "│ 2014-07-14 ┆ 9021  ┆ 900  ┆ 1       ┆ … ┆ 4733    ┆ 1        ┆ -1  ┆ 0   │\n",
       "│ 2014-07-22 ┆ 9021  ┆ 900  ┆ 1       ┆ … ┆ 4734    ┆ 2        ┆ -1  ┆ 0   │\n",
       "│ …          ┆ …     ┆ …    ┆ …       ┆ … ┆ …       ┆ …        ┆ …   ┆ …   │\n",
       "│ 2015-04-27 ┆ 9021  ┆ 900  ┆ 1       ┆ … ┆ 4734    ┆ 2        ┆ -1  ┆ 0   │\n",
       "│ 2015-04-07 ┆ 9021  ┆ 900  ┆ 1       ┆ … ┆ 4733    ┆ 1        ┆ -1  ┆ 0   │\n",
       "│ 2015-04-13 ┆ 9021  ┆ 900  ┆ 1       ┆ … ┆ 4734    ┆ 2        ┆ -2  ┆ 0   │\n",
       "│ 2015-04-05 ┆ 9021  ┆ 900  ┆ 3       ┆ … ┆ 4733    ┆ 1        ┆ -1  ┆ 0   │\n",
       "│ 2015-05-17 ┆ 9021  ┆ 900  ┆ 3       ┆ … ┆ 4734    ┆ 2        ┆ -1  ┆ 0   │\n",
       "└────────────┴───────┴──────┴─────────┴───┴─────────┴──────────┴─────┴─────┘"
      ]
     },
     "execution_count": 6,
     "metadata": {},
     "output_type": "execute_result"
    }
   ],
   "source": [
    "ridership.filter(pl.col(\"On\") < 0).collect()"
   ]
  },
  {
   "cell_type": "code",
   "execution_count": 7,
   "metadata": {},
   "outputs": [],
   "source": [
    "ridership = ridership.filter(pl.col(\"On\") >= 0)"
   ]
  },
  {
   "cell_type": "code",
   "execution_count": 8,
   "metadata": {},
   "outputs": [
    {
     "data": {
      "text/html": [
       "<div><style>\n",
       ".dataframe > thead > tr,\n",
       ".dataframe > tbody > tr {\n",
       "  text-align: right;\n",
       "  white-space: pre-wrap;\n",
       "}\n",
       "</style>\n",
       "<small>shape: (0, 10)</small><table border=\"1\" class=\"dataframe\"><thead><tr><th>Date</th><th>Block</th><th>Line</th><th>Service</th><th>Direction Number</th><th>From Time</th><th>Stop Id</th><th>Sequence</th><th>On</th><th>Off</th></tr><tr><td>date</td><td>u16</td><td>u16</td><td>u8</td><td>u8</td><td>u32</td><td>u16</td><td>u8</td><td>i16</td><td>i16</td></tr></thead><tbody></tbody></table></div>"
      ],
      "text/plain": [
       "shape: (0, 10)\n",
       "┌──────┬───────┬──────┬─────────┬───┬─────────┬──────────┬─────┬─────┐\n",
       "│ Date ┆ Block ┆ Line ┆ Service ┆ … ┆ Stop Id ┆ Sequence ┆ On  ┆ Off │\n",
       "│ ---  ┆ ---   ┆ ---  ┆ ---     ┆   ┆ ---     ┆ ---      ┆ --- ┆ --- │\n",
       "│ date ┆ u16   ┆ u16  ┆ u8      ┆   ┆ u16     ┆ u8       ┆ i16 ┆ i16 │\n",
       "╞══════╪═══════╪══════╪═════════╪═══╪═════════╪══════════╪═════╪═════╡\n",
       "└──────┴───────┴──────┴─────────┴───┴─────────┴──────────┴─────┴─────┘"
      ]
     },
     "execution_count": 8,
     "metadata": {},
     "output_type": "execute_result"
    }
   ],
   "source": [
    "ridership.filter(pl.col(\"On\") < 0).collect()"
   ]
  },
  {
   "cell_type": "code",
   "execution_count": 9,
   "metadata": {},
   "outputs": [],
   "source": [
    "# ridership = ridership.with_columns(\n",
    "#     pl.when(pl.col(\"From Time\") > 86400)\n",
    "#     .then(pl.col(\"Date\") + timedelta(days=1))\n",
    "#     .otherwise(pl.col(\"Date\"))\n",
    "#     .alias(\"Date\"),\n",
    "#     pl.when(pl.col(\"From Time\") > 86400)\n",
    "#     .then(pl.col(\"From Time\") - 86400)\n",
    "#     .otherwise(pl.col(\"From Time\"))\n",
    "#     .alias(\"From Time\"),\n",
    "# )"
   ]
  },
  {
   "cell_type": "code",
   "execution_count": 10,
   "metadata": {},
   "outputs": [],
   "source": [
    "# ridership.filter(pl.col(\"From Time\") > 86400).collect()"
   ]
  },
  {
   "cell_type": "code",
   "execution_count": 11,
   "metadata": {},
   "outputs": [],
   "source": [
    "# ridership.filter((pl.col(\"Block\") == 9012) & (pl.col(\"Sequence\") == 41)).collect()"
   ]
  },
  {
   "cell_type": "code",
   "execution_count": 12,
   "metadata": {},
   "outputs": [
    {
     "data": {
      "text/html": [
       "<div><style>\n",
       ".dataframe > thead > tr,\n",
       ".dataframe > tbody > tr {\n",
       "  text-align: right;\n",
       "  white-space: pre-wrap;\n",
       "}\n",
       "</style>\n",
       "<small>shape: (10, 10)</small><table border=\"1\" class=\"dataframe\"><thead><tr><th>Block</th><th>Line</th><th>Service</th><th>Direction Number</th><th>Sequence</th><th>Stop Id</th><th>Date</th><th>From Time</th><th>On</th><th>Off</th></tr><tr><td>u16</td><td>u16</td><td>u8</td><td>u8</td><td>u8</td><td>u16</td><td>date</td><td>u32</td><td>i16</td><td>i16</td></tr></thead><tbody><tr><td>0</td><td>901</td><td>1</td><td>1</td><td>13</td><td>4806</td><td>2015-08-14</td><td>58080</td><td>6</td><td>0</td></tr><tr><td>0</td><td>901</td><td>1</td><td>1</td><td>13</td><td>4806</td><td>2015-08-14</td><td>59940</td><td>7</td><td>0</td></tr><tr><td>0</td><td>901</td><td>1</td><td>1</td><td>13</td><td>4806</td><td>2015-08-17</td><td>59940</td><td>2</td><td>0</td></tr><tr><td>0</td><td>901</td><td>1</td><td>1</td><td>13</td><td>4806</td><td>2015-08-17</td><td>61680</td><td>12</td><td>0</td></tr><tr><td>0</td><td>901</td><td>1</td><td>1</td><td>13</td><td>4806</td><td>2015-08-18</td><td>58080</td><td>5</td><td>0</td></tr><tr><td>0</td><td>901</td><td>1</td><td>1</td><td>13</td><td>4806</td><td>2015-08-18</td><td>59940</td><td>6</td><td>0</td></tr><tr><td>0</td><td>901</td><td>1</td><td>1</td><td>13</td><td>4806</td><td>2015-08-20</td><td>58080</td><td>1</td><td>0</td></tr><tr><td>0</td><td>901</td><td>1</td><td>1</td><td>13</td><td>4806</td><td>2015-08-20</td><td>59940</td><td>9</td><td>0</td></tr><tr><td>0</td><td>901</td><td>1</td><td>1</td><td>13</td><td>4806</td><td>2015-08-20</td><td>61680</td><td>4</td><td>0</td></tr><tr><td>0</td><td>901</td><td>1</td><td>1</td><td>13</td><td>4806</td><td>2015-08-21</td><td>58080</td><td>5</td><td>0</td></tr></tbody></table></div>"
      ],
      "text/plain": [
       "shape: (10, 10)\n",
       "┌───────┬──────┬─────────┬──────────────────┬───┬────────────┬───────────┬─────┬─────┐\n",
       "│ Block ┆ Line ┆ Service ┆ Direction Number ┆ … ┆ Date       ┆ From Time ┆ On  ┆ Off │\n",
       "│ ---   ┆ ---  ┆ ---     ┆ ---              ┆   ┆ ---        ┆ ---       ┆ --- ┆ --- │\n",
       "│ u16   ┆ u16  ┆ u8      ┆ u8               ┆   ┆ date       ┆ u32       ┆ i16 ┆ i16 │\n",
       "╞═══════╪══════╪═════════╪══════════════════╪═══╪════════════╪═══════════╪═════╪═════╡\n",
       "│ 0     ┆ 901  ┆ 1       ┆ 1                ┆ … ┆ 2015-08-14 ┆ 58080     ┆ 6   ┆ 0   │\n",
       "│ 0     ┆ 901  ┆ 1       ┆ 1                ┆ … ┆ 2015-08-14 ┆ 59940     ┆ 7   ┆ 0   │\n",
       "│ 0     ┆ 901  ┆ 1       ┆ 1                ┆ … ┆ 2015-08-17 ┆ 59940     ┆ 2   ┆ 0   │\n",
       "│ 0     ┆ 901  ┆ 1       ┆ 1                ┆ … ┆ 2015-08-17 ┆ 61680     ┆ 12  ┆ 0   │\n",
       "│ 0     ┆ 901  ┆ 1       ┆ 1                ┆ … ┆ 2015-08-18 ┆ 58080     ┆ 5   ┆ 0   │\n",
       "│ 0     ┆ 901  ┆ 1       ┆ 1                ┆ … ┆ 2015-08-18 ┆ 59940     ┆ 6   ┆ 0   │\n",
       "│ 0     ┆ 901  ┆ 1       ┆ 1                ┆ … ┆ 2015-08-20 ┆ 58080     ┆ 1   ┆ 0   │\n",
       "│ 0     ┆ 901  ┆ 1       ┆ 1                ┆ … ┆ 2015-08-20 ┆ 59940     ┆ 9   ┆ 0   │\n",
       "│ 0     ┆ 901  ┆ 1       ┆ 1                ┆ … ┆ 2015-08-20 ┆ 61680     ┆ 4   ┆ 0   │\n",
       "│ 0     ┆ 901  ┆ 1       ┆ 1                ┆ … ┆ 2015-08-21 ┆ 58080     ┆ 5   ┆ 0   │\n",
       "└───────┴──────┴─────────┴──────────────────┴───┴────────────┴───────────┴─────┴─────┘"
      ]
     },
     "execution_count": 12,
     "metadata": {},
     "output_type": "execute_result"
    }
   ],
   "source": [
    "ridership.select(\n",
    "    [\n",
    "        \"Block\",\n",
    "        \"Line\",\n",
    "        \"Service\",\n",
    "        \"Direction Number\",\n",
    "        \"Sequence\",\n",
    "        \"Stop Id\",\n",
    "        \"Date\",\n",
    "        \"From Time\",\n",
    "        \"On\",\n",
    "        \"Off\",\n",
    "    ]\n",
    ").sort(\n",
    "    [\n",
    "        \"Block\",\n",
    "        \"Line\",\n",
    "        \"Service\",\n",
    "        \"Direction Number\",\n",
    "        \"Sequence\",\n",
    "        \"Stop Id\",\n",
    "        \"Date\",\n",
    "        \"From Time\",\n",
    "    ]\n",
    ").head(n=10).collect()"
   ]
  },
  {
   "cell_type": "code",
   "execution_count": 13,
   "metadata": {},
   "outputs": [
    {
     "data": {
      "text/html": [
       "<div><style>\n",
       ".dataframe > thead > tr,\n",
       ".dataframe > tbody > tr {\n",
       "  text-align: right;\n",
       "  white-space: pre-wrap;\n",
       "}\n",
       "</style>\n",
       "<small>shape: (10, 9)</small><table border=\"1\" class=\"dataframe\"><thead><tr><th>Block</th><th>Line</th><th>Service</th><th>Direction Number</th><th>Sequence</th><th>Stop Id</th><th>Date</th><th>On</th><th>Off</th></tr><tr><td>u16</td><td>u16</td><td>u8</td><td>u8</td><td>u8</td><td>u16</td><td>date</td><td>i64</td><td>i64</td></tr></thead><tbody><tr><td>0</td><td>901</td><td>1</td><td>1</td><td>13</td><td>4806</td><td>2015-08-14</td><td>13</td><td>0</td></tr><tr><td>0</td><td>901</td><td>1</td><td>1</td><td>13</td><td>4806</td><td>2015-08-17</td><td>14</td><td>0</td></tr><tr><td>0</td><td>901</td><td>1</td><td>1</td><td>13</td><td>4806</td><td>2015-08-18</td><td>11</td><td>0</td></tr><tr><td>0</td><td>901</td><td>1</td><td>1</td><td>13</td><td>4806</td><td>2015-08-20</td><td>14</td><td>0</td></tr><tr><td>0</td><td>901</td><td>1</td><td>1</td><td>13</td><td>4806</td><td>2015-08-21</td><td>12</td><td>0</td></tr><tr><td>0</td><td>901</td><td>1</td><td>1</td><td>13</td><td>4806</td><td>2015-08-24</td><td>11</td><td>0</td></tr><tr><td>0</td><td>901</td><td>1</td><td>1</td><td>13</td><td>4806</td><td>2015-08-25</td><td>31</td><td>0</td></tr><tr><td>0</td><td>901</td><td>1</td><td>1</td><td>13</td><td>4806</td><td>2015-08-26</td><td>18</td><td>0</td></tr><tr><td>0</td><td>901</td><td>1</td><td>1</td><td>13</td><td>4806</td><td>2015-08-27</td><td>23</td><td>0</td></tr><tr><td>0</td><td>901</td><td>1</td><td>1</td><td>13</td><td>4806</td><td>2015-08-28</td><td>9</td><td>0</td></tr></tbody></table></div>"
      ],
      "text/plain": [
       "shape: (10, 9)\n",
       "┌───────┬──────┬─────────┬──────────────────┬───┬─────────┬────────────┬─────┬─────┐\n",
       "│ Block ┆ Line ┆ Service ┆ Direction Number ┆ … ┆ Stop Id ┆ Date       ┆ On  ┆ Off │\n",
       "│ ---   ┆ ---  ┆ ---     ┆ ---              ┆   ┆ ---     ┆ ---        ┆ --- ┆ --- │\n",
       "│ u16   ┆ u16  ┆ u8      ┆ u8               ┆   ┆ u16     ┆ date       ┆ i64 ┆ i64 │\n",
       "╞═══════╪══════╪═════════╪══════════════════╪═══╪═════════╪════════════╪═════╪═════╡\n",
       "│ 0     ┆ 901  ┆ 1       ┆ 1                ┆ … ┆ 4806    ┆ 2015-08-14 ┆ 13  ┆ 0   │\n",
       "│ 0     ┆ 901  ┆ 1       ┆ 1                ┆ … ┆ 4806    ┆ 2015-08-17 ┆ 14  ┆ 0   │\n",
       "│ 0     ┆ 901  ┆ 1       ┆ 1                ┆ … ┆ 4806    ┆ 2015-08-18 ┆ 11  ┆ 0   │\n",
       "│ 0     ┆ 901  ┆ 1       ┆ 1                ┆ … ┆ 4806    ┆ 2015-08-20 ┆ 14  ┆ 0   │\n",
       "│ 0     ┆ 901  ┆ 1       ┆ 1                ┆ … ┆ 4806    ┆ 2015-08-21 ┆ 12  ┆ 0   │\n",
       "│ 0     ┆ 901  ┆ 1       ┆ 1                ┆ … ┆ 4806    ┆ 2015-08-24 ┆ 11  ┆ 0   │\n",
       "│ 0     ┆ 901  ┆ 1       ┆ 1                ┆ … ┆ 4806    ┆ 2015-08-25 ┆ 31  ┆ 0   │\n",
       "│ 0     ┆ 901  ┆ 1       ┆ 1                ┆ … ┆ 4806    ┆ 2015-08-26 ┆ 18  ┆ 0   │\n",
       "│ 0     ┆ 901  ┆ 1       ┆ 1                ┆ … ┆ 4806    ┆ 2015-08-27 ┆ 23  ┆ 0   │\n",
       "│ 0     ┆ 901  ┆ 1       ┆ 1                ┆ … ┆ 4806    ┆ 2015-08-28 ┆ 9   ┆ 0   │\n",
       "└───────┴──────┴─────────┴──────────────────┴───┴─────────┴────────────┴─────┴─────┘"
      ]
     },
     "execution_count": 13,
     "metadata": {},
     "output_type": "execute_result"
    }
   ],
   "source": [
    "# Aggregating on and off values\n",
    "ridership = (\n",
    "    ridership.group_by(\n",
    "        [\n",
    "            \"Block\",\n",
    "            \"Line\",\n",
    "            \"Service\",\n",
    "            \"Direction Number\",\n",
    "            \"Sequence\",\n",
    "            \"Stop Id\",\n",
    "            \"Date\",\n",
    "        ]\n",
    "    )\n",
    "    .agg([pl.col(\"On\").sum().alias(\"On\"), pl.col(\"Off\").sum().alias(\"Off\")])\n",
    "    .sort(\n",
    "        [\n",
    "            \"Block\",\n",
    "            \"Line\",\n",
    "            \"Service\",\n",
    "            \"Direction Number\",\n",
    "            \"Sequence\",\n",
    "            \"Stop Id\",\n",
    "            \"Date\",\n",
    "        ]\n",
    "    )\n",
    ")\n",
    "ridership.head(n=10).collect()"
   ]
  },
  {
   "cell_type": "code",
   "execution_count": 14,
   "metadata": {},
   "outputs": [],
   "source": [
    "ridership.collect(streaming=True).write_csv(os.path.join(STAGING_DATA_FOLDER, \"ridership.csv\"))"
   ]
  }
 ],
 "metadata": {
  "kernelspec": {
   "display_name": "Python 3",
   "language": "python",
   "name": "python3"
  },
  "language_info": {
   "codemirror_mode": {
    "name": "ipython",
    "version": 3
   },
   "file_extension": ".py",
   "mimetype": "text/x-python",
   "name": "python",
   "nbconvert_exporter": "python",
   "pygments_lexer": "ipython3",
   "version": "3.11.4"
  }
 },
 "nbformat": 4,
 "nbformat_minor": 2
}
