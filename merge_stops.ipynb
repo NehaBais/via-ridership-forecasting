{
 "cells": [
  {
   "cell_type": "code",
   "execution_count": 1,
   "metadata": {},
   "outputs": [],
   "source": [
    "import polars as pl\n",
    "import os"
   ]
  },
  {
   "cell_type": "code",
   "execution_count": 2,
   "metadata": {},
   "outputs": [],
   "source": [
    "RAW_DATA_FOLDER = \"raw_data\"\n",
    "STAGING_DATA_FOLDER = \"staging_data\""
   ]
  },
  {
   "cell_type": "code",
   "execution_count": 3,
   "metadata": {},
   "outputs": [],
   "source": [
    "ridership = (\n",
    "    pl.scan_csv(os.path.join(RAW_DATA_FOLDER, \"Ridership.csv\"))\n",
    "    .select([\"Stop Id\", \"IVR Number\"]) # Choose only IVR no. and stop id from raw data ridership\n",
    "    .with_columns(\n",
    "        pl.col(\"Stop Id\").str.replace_all(\",\", \"\").cast(pl.UInt16), # converting them to integers\n",
    "        pl.col(\"IVR Number\").str.replace_all(\",\", \"\").cast(pl.UInt32),\n",
    "    )\n",
    "    .with_columns(\n",
    "        pl.when(pl.col(\"IVR Number\").is_null()) # if IVR no. is null add 60000 to its respective stop id and assign it to IVR no.\n",
    "        .then(pl.col(\"Stop Id\") + 60000)\n",
    "        .otherwise(pl.col(\"IVR Number\"))\n",
    "        .alias(\"IVR Number\")\n",
    "    )\n",
    "    .with_columns(\n",
    "        pl.when(pl.col(\"IVR Number\") < 60000) # if IVR no. is 0 or less then 60000 then perform same as above.\n",
    "        .then(pl.col(\"Stop Id\") + 60000)\n",
    "        .otherwise(pl.col(\"IVR Number\"))\n",
    "        .alias(\"IVR Number\")\n",
    "    )\n",
    "    .unique() # Select all the unique combination of stop id and ivr no.\n",
    ")"
   ]
  },
  {
   "cell_type": "code",
   "execution_count": 4,
   "metadata": {},
   "outputs": [],
   "source": [
    "feb2020lf = (\n",
    "    pl.scan_csv(os.path.join(RAW_DATA_FOLDER, \"Feb2020_RBS_Final.csv\"))\n",
    "    .select([\"Stop_ID\", \"LAT_Num\", \"LON_Num\"])\n",
    "    .with_columns(\n",
    "        pl.col(\"Stop_ID\").cast(pl.UInt16),\n",
    "        pl.col(\"LAT_Num\").cast(pl.Float32),\n",
    "        pl.col(\"LON_Num\").cast(pl.Float32),\n",
    "    )\n",
    "    .unique()\n",
    ")"
   ]
  },
  {
   "cell_type": "code",
   "execution_count": 5,
   "metadata": {},
   "outputs": [],
   "source": [
    "oct2022lf = (\n",
    "    pl.scan_csv(os.path.join(RAW_DATA_FOLDER, \"RidershipbyStop2022.csv\"))\n",
    "    .select([\"Stop ID text\", \"Lat\", \"Long\"]) # here the given stop id is actually ivr no.\n",
    "    .with_columns(\n",
    "        pl.col(\"Stop ID text\").cast(pl.UInt32),\n",
    "        pl.col(\"Lat\").cast(pl.Float32),\n",
    "        pl.col(\"Long\").cast(pl.Float32),\n",
    "    )\n",
    "    .unique()\n",
    ")"
   ]
  },
  {
   "cell_type": "code",
   "execution_count": 6,
   "metadata": {},
   "outputs": [],
   "source": [
    "stops = (\n",
    "    pl.scan_csv(os.path.join(RAW_DATA_FOLDER, \"stops.csv\"))\n",
    "    .select([\"stop_id\", \"stop_lat\", \"stop_lon\"]).with_columns(\n",
    "        pl.col(\"stop_id\").cast(pl.UInt16),\n",
    "        pl.col(\"stop_lat\").cast(pl.Float32),\n",
    "        pl.col(\"stop_lon\").cast(pl.Float32),\n",
    "    )\n",
    "    .unique()\n",
    ")"
   ]
  },
  {
   "cell_type": "code",
   "execution_count": 7,
   "metadata": {},
   "outputs": [],
   "source": [
    "tolerance = 0.0001 # roughly within 9 meters\n",
    "# Basically tolence is - if two latitudes and longitudes only differ by this amount then they can be considered equal.\n",
    "# example - 121.987987 - 121.987969 = 0.000018. the difference is smaller than 0.0001"
   ]
  },
  {
   "cell_type": "code",
   "execution_count": 8,
   "metadata": {},
   "outputs": [],
   "source": [
    "joined_lf = ridership.join(\n",
    "    feb2020lf, how=\"left\", left_on=\"Stop Id\", right_on=\"Stop_ID\"\n",
    ").join(oct2022lf, how=\"left\", left_on=\"IVR Number\", right_on=\"Stop ID text\")\n",
    "# merging ridership ( stop id and ivr) with feb 2020 and oct2022 data and storing in joined_lf"
   ]
  },
  {
   "cell_type": "code",
   "execution_count": 9,
   "metadata": {},
   "outputs": [],
   "source": [
    "# if latitude is null in either the feb2020 data or oct2022 data, preserve the latitude of the not null data\n",
    "# if longitude is null in either the feb2020 data or oct2022 data, preserve the latitude of the not null data\n",
    "# if both (feb2020 and oct2022) have latitude information and they are consistent within the tolerance, choose the first one\n",
    "# if they are not within tolerance, set that latitude or longitude to null\n",
    "joined_lf = joined_lf.with_columns(\n",
    "    pl.when(pl.col(\"LAT_Num\").is_not_null())\n",
    "    .then(\n",
    "        pl.when(\n",
    "            pl.col(\"Lat\").is_not_null()\n",
    "            & ((pl.col(\"LAT_Num\") - pl.col(\"Lat\")).abs() <= tolerance)\n",
    "        )\n",
    "        .then(pl.col(\"LAT_Num\"))\n",
    "        .otherwise(pl.col(\"LAT_Num\"))\n",
    "    )\n",
    "    .otherwise(pl.col(\"Lat\"))\n",
    "    .alias(\"Latitude\"),\n",
    "    pl.when(pl.col(\"LON_Num\").is_not_null())\n",
    "    .then(\n",
    "        pl.when(\n",
    "            pl.col(\"Long\").is_not_null()\n",
    "            & ((pl.col(\"LON_Num\") - pl.col(\"Long\")).abs() <= tolerance)\n",
    "        )\n",
    "        .then(pl.col(\"LON_Num\"))\n",
    "        .otherwise(pl.col(\"LON_Num\"))\n",
    "    )\n",
    "    .otherwise(pl.col(\"Long\"))\n",
    "    .alias(\"Longitude\"),\n",
    ").select([\"Stop Id\", \"IVR Number\", \"Latitude\", \"Longitude\"])"
   ]
  },
  {
   "cell_type": "code",
   "execution_count": 10,
   "metadata": {},
   "outputs": [],
   "source": [
    "joined_lf = joined_lf.join(stops, how=\"left\", left_on=\"Stop Id\", right_on=\"stop_id\")\n",
    "# merging the stops into joined_lf"
   ]
  },
  {
   "cell_type": "code",
   "execution_count": 11,
   "metadata": {},
   "outputs": [],
   "source": [
    "# same logic as above\n",
    "joined_lf = joined_lf.with_columns(\n",
    "    pl.when(pl.col(\"Latitude\").is_not_null())\n",
    "    .then(\n",
    "        pl.when(\n",
    "            pl.col(\"stop_lat\").is_not_null()\n",
    "            & ((pl.col(\"Latitude\") - pl.col(\"stop_lat\")).abs() <= tolerance)\n",
    "        )\n",
    "        .then(pl.col(\"Latitude\"))\n",
    "        .otherwise(pl.col(\"Latitude\"))\n",
    "    )\n",
    "    .otherwise(pl.col(\"stop_lat\"))\n",
    "    .alias(\"Latitude\"),\n",
    "    pl.when(pl.col(\"Longitude\").is_not_null())\n",
    "    .then(\n",
    "        pl.when(\n",
    "            pl.col(\"stop_lon\").is_not_null()\n",
    "            & ((pl.col(\"Longitude\") - pl.col(\"stop_lon\")).abs() <= tolerance)\n",
    "        )\n",
    "        .then(pl.col(\"Longitude\"))\n",
    "        .otherwise(pl.col(\"Longitude\"))\n",
    "    )\n",
    "    .otherwise(pl.col(\"stop_lon\"))\n",
    "    .alias(\"Longitude\"),\n",
    ").select([\"Stop Id\", \"Latitude\", \"Longitude\"])"
   ]
  },
  {
   "cell_type": "code",
   "execution_count": 12,
   "metadata": {},
   "outputs": [
    {
     "data": {
      "text/html": [
       "<div><style>\n",
       ".dataframe > thead > tr,\n",
       ".dataframe > tbody > tr {\n",
       "  text-align: right;\n",
       "  white-space: pre-wrap;\n",
       "}\n",
       "</style>\n",
       "<small>shape: (1, 3)</small><table border=\"1\" class=\"dataframe\"><thead><tr><th>Stop Id</th><th>Latitude</th><th>Longitude</th></tr><tr><td>u32</td><td>u32</td><td>u32</td></tr></thead><tbody><tr><td>3860</td><td>3860</td><td>3860</td></tr></tbody></table></div>"
      ],
      "text/plain": [
       "shape: (1, 3)\n",
       "┌─────────┬──────────┬───────────┐\n",
       "│ Stop Id ┆ Latitude ┆ Longitude │\n",
       "│ ---     ┆ ---      ┆ ---       │\n",
       "│ u32     ┆ u32      ┆ u32       │\n",
       "╞═════════╪══════════╪═══════════╡\n",
       "│ 3860    ┆ 3860     ┆ 3860      │\n",
       "└─────────┴──────────┴───────────┘"
      ]
     },
     "execution_count": 12,
     "metadata": {},
     "output_type": "execute_result"
    }
   ],
   "source": [
    "joined_lf.count().collect()\n",
    "# check for nulls"
   ]
  },
  {
   "cell_type": "code",
   "execution_count": 13,
   "metadata": {},
   "outputs": [],
   "source": [
    "joined_lf.collect(streaming=True).write_csv(\n",
    "    os.path.join(STAGING_DATA_FOLDER, \"stops.csv\")\n",
    ")"
   ]
  }
 ],
 "metadata": {
  "kernelspec": {
   "display_name": "Python 3",
   "language": "python",
   "name": "python3"
  },
  "language_info": {
   "codemirror_mode": {
    "name": "ipython",
    "version": 3
   },
   "file_extension": ".py",
   "mimetype": "text/x-python",
   "name": "python",
   "nbconvert_exporter": "python",
   "pygments_lexer": "ipython3",
   "version": "3.11.4"
  }
 },
 "nbformat": 4,
 "nbformat_minor": 2
}
