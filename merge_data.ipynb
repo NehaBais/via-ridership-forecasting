{
 "cells": [
  {
   "cell_type": "code",
   "execution_count": 1,
   "metadata": {},
   "outputs": [],
   "source": [
    "import polars as pl\n",
    "import os"
   ]
  },
  {
   "cell_type": "code",
   "execution_count": 2,
   "metadata": {},
   "outputs": [],
   "source": [
    "STAGING_DATA_FOLDER = \"staging_data\"\n",
    "CLEAN_DATA_FOLDER = \"clean_data\""
   ]
  },
  {
   "cell_type": "code",
   "execution_count": 3,
   "metadata": {},
   "outputs": [],
   "source": [
    "ridership = pl.scan_csv(os.path.join(STAGING_DATA_FOLDER, \"ridership.csv\"))\n",
    "climate = pl.scan_csv(os.path.join(STAGING_DATA_FOLDER, \"climate.csv\"))\n",
    "stops = pl.scan_csv(os.path.join(STAGING_DATA_FOLDER, \"stops.csv\"))\n",
    "dates = (\n",
    "    pl.scan_csv(os.path.join(STAGING_DATA_FOLDER, \"dates.csv\"))\n",
    "    .with_columns(\n",
    "        pl.col(\"id\")\n",
    "        .cast(pl.Utf8)\n",
    "        .str.strptime(pl.Date, \"%Y%m%d\") # strip time - parse the sring into a date using given date format\n",
    "        .cast(pl.String)\n",
    "        .alias(\"Date\")\n",
    "    )\n",
    "    .select([\"Date\"])\n",
    ")"
   ]
  },
  {
   "cell_type": "code",
   "execution_count": 4,
   "metadata": {},
   "outputs": [
    {
     "data": {
      "text/html": [
       "<div><style>\n",
       ".dataframe > thead > tr,\n",
       ".dataframe > tbody > tr {\n",
       "  text-align: right;\n",
       "  white-space: pre-wrap;\n",
       "}\n",
       "</style>\n",
       "<small>shape: (5, 9)</small><table border=\"1\" class=\"dataframe\"><thead><tr><th>Block</th><th>Line</th><th>Service</th><th>Direction Number</th><th>Sequence</th><th>Stop Id</th><th>Date</th><th>On</th><th>Off</th></tr><tr><td>i64</td><td>i64</td><td>i64</td><td>i64</td><td>i64</td><td>i64</td><td>str</td><td>i64</td><td>i64</td></tr></thead><tbody><tr><td>0</td><td>901</td><td>1</td><td>1</td><td>13</td><td>4806</td><td>&quot;2015-08-14&quot;</td><td>13</td><td>0</td></tr><tr><td>0</td><td>901</td><td>1</td><td>1</td><td>13</td><td>4806</td><td>&quot;2015-08-17&quot;</td><td>14</td><td>0</td></tr><tr><td>0</td><td>901</td><td>1</td><td>1</td><td>13</td><td>4806</td><td>&quot;2015-08-18&quot;</td><td>11</td><td>0</td></tr><tr><td>0</td><td>901</td><td>1</td><td>1</td><td>13</td><td>4806</td><td>&quot;2015-08-20&quot;</td><td>14</td><td>0</td></tr><tr><td>0</td><td>901</td><td>1</td><td>1</td><td>13</td><td>4806</td><td>&quot;2015-08-21&quot;</td><td>12</td><td>0</td></tr></tbody></table></div>"
      ],
      "text/plain": [
       "shape: (5, 9)\n",
       "┌───────┬──────┬─────────┬──────────────────┬───┬─────────┬────────────┬─────┬─────┐\n",
       "│ Block ┆ Line ┆ Service ┆ Direction Number ┆ … ┆ Stop Id ┆ Date       ┆ On  ┆ Off │\n",
       "│ ---   ┆ ---  ┆ ---     ┆ ---              ┆   ┆ ---     ┆ ---        ┆ --- ┆ --- │\n",
       "│ i64   ┆ i64  ┆ i64     ┆ i64              ┆   ┆ i64     ┆ str        ┆ i64 ┆ i64 │\n",
       "╞═══════╪══════╪═════════╪══════════════════╪═══╪═════════╪════════════╪═════╪═════╡\n",
       "│ 0     ┆ 901  ┆ 1       ┆ 1                ┆ … ┆ 4806    ┆ 2015-08-14 ┆ 13  ┆ 0   │\n",
       "│ 0     ┆ 901  ┆ 1       ┆ 1                ┆ … ┆ 4806    ┆ 2015-08-17 ┆ 14  ┆ 0   │\n",
       "│ 0     ┆ 901  ┆ 1       ┆ 1                ┆ … ┆ 4806    ┆ 2015-08-18 ┆ 11  ┆ 0   │\n",
       "│ 0     ┆ 901  ┆ 1       ┆ 1                ┆ … ┆ 4806    ┆ 2015-08-20 ┆ 14  ┆ 0   │\n",
       "│ 0     ┆ 901  ┆ 1       ┆ 1                ┆ … ┆ 4806    ┆ 2015-08-21 ┆ 12  ┆ 0   │\n",
       "└───────┴──────┴─────────┴──────────────────┴───┴─────────┴────────────┴─────┴─────┘"
      ]
     },
     "execution_count": 4,
     "metadata": {},
     "output_type": "execute_result"
    }
   ],
   "source": [
    "ridership.head().collect()"
   ]
  },
  {
   "cell_type": "code",
   "execution_count": 5,
   "metadata": {},
   "outputs": [
    {
     "data": {
      "text/html": [
       "<div><style>\n",
       ".dataframe > thead > tr,\n",
       ".dataframe > tbody > tr {\n",
       "  text-align: right;\n",
       "  white-space: pre-wrap;\n",
       "}\n",
       "</style>\n",
       "<small>shape: (5, 3)</small><table border=\"1\" class=\"dataframe\"><thead><tr><th>Stop Id</th><th>Latitude</th><th>Longitude</th></tr><tr><td>i64</td><td>f64</td><td>f64</td></tr></thead><tbody><tr><td>4045</td><td>37.358547</td><td>-121.86032</td></tr><tr><td>5180</td><td>37.269485</td><td>-121.81747</td></tr><tr><td>2031</td><td>37.417297</td><td>-122.07814</td></tr><tr><td>3522</td><td>37.404118</td><td>-121.866486</td></tr><tr><td>743</td><td>37.307266</td><td>-121.90355</td></tr></tbody></table></div>"
      ],
      "text/plain": [
       "shape: (5, 3)\n",
       "┌─────────┬───────────┬─────────────┐\n",
       "│ Stop Id ┆ Latitude  ┆ Longitude   │\n",
       "│ ---     ┆ ---       ┆ ---         │\n",
       "│ i64     ┆ f64       ┆ f64         │\n",
       "╞═════════╪═══════════╪═════════════╡\n",
       "│ 4045    ┆ 37.358547 ┆ -121.86032  │\n",
       "│ 5180    ┆ 37.269485 ┆ -121.81747  │\n",
       "│ 2031    ┆ 37.417297 ┆ -122.07814  │\n",
       "│ 3522    ┆ 37.404118 ┆ -121.866486 │\n",
       "│ 743     ┆ 37.307266 ┆ -121.90355  │\n",
       "└─────────┴───────────┴─────────────┘"
      ]
     },
     "execution_count": 5,
     "metadata": {},
     "output_type": "execute_result"
    }
   ],
   "source": [
    "stops.head().collect()"
   ]
  },
  {
   "cell_type": "code",
   "execution_count": 6,
   "metadata": {},
   "outputs": [
    {
     "data": {
      "text/html": [
       "<div><style>\n",
       ".dataframe > thead > tr,\n",
       ".dataframe > tbody > tr {\n",
       "  text-align: right;\n",
       "  white-space: pre-wrap;\n",
       "}\n",
       "</style>\n",
       "<small>shape: (5, 1)</small><table border=\"1\" class=\"dataframe\"><thead><tr><th>Date</th></tr><tr><td>str</td></tr></thead><tbody><tr><td>&quot;2014-01-01&quot;</td></tr><tr><td>&quot;2014-01-02&quot;</td></tr><tr><td>&quot;2014-01-03&quot;</td></tr><tr><td>&quot;2014-01-04&quot;</td></tr><tr><td>&quot;2014-01-05&quot;</td></tr></tbody></table></div>"
      ],
      "text/plain": [
       "shape: (5, 1)\n",
       "┌────────────┐\n",
       "│ Date       │\n",
       "│ ---        │\n",
       "│ str        │\n",
       "╞════════════╡\n",
       "│ 2014-01-01 │\n",
       "│ 2014-01-02 │\n",
       "│ 2014-01-03 │\n",
       "│ 2014-01-04 │\n",
       "│ 2014-01-05 │\n",
       "└────────────┘"
      ]
     },
     "execution_count": 6,
     "metadata": {},
     "output_type": "execute_result"
    }
   ],
   "source": [
    "dates.head().collect()"
   ]
  },
  {
   "cell_type": "code",
   "execution_count": 7,
   "metadata": {},
   "outputs": [
    {
     "data": {
      "text/html": [
       "<div><style>\n",
       ".dataframe > thead > tr,\n",
       ".dataframe > tbody > tr {\n",
       "  text-align: right;\n",
       "  white-space: pre-wrap;\n",
       "}\n",
       "</style>\n",
       "<small>shape: (5, 4)</small><table border=\"1\" class=\"dataframe\"><thead><tr><th>Date</th><th>Stop Id</th><th>Latitude</th><th>Longitude</th></tr><tr><td>str</td><td>i64</td><td>f64</td><td>f64</td></tr></thead><tbody><tr><td>&quot;2014-01-01&quot;</td><td>4045</td><td>37.358547</td><td>-121.86032</td></tr><tr><td>&quot;2014-01-01&quot;</td><td>5180</td><td>37.269485</td><td>-121.81747</td></tr><tr><td>&quot;2014-01-01&quot;</td><td>2031</td><td>37.417297</td><td>-122.07814</td></tr><tr><td>&quot;2014-01-01&quot;</td><td>3522</td><td>37.404118</td><td>-121.866486</td></tr><tr><td>&quot;2014-01-01&quot;</td><td>743</td><td>37.307266</td><td>-121.90355</td></tr></tbody></table></div>"
      ],
      "text/plain": [
       "shape: (5, 4)\n",
       "┌────────────┬─────────┬───────────┬─────────────┐\n",
       "│ Date       ┆ Stop Id ┆ Latitude  ┆ Longitude   │\n",
       "│ ---        ┆ ---     ┆ ---       ┆ ---         │\n",
       "│ str        ┆ i64     ┆ f64       ┆ f64         │\n",
       "╞════════════╪═════════╪═══════════╪═════════════╡\n",
       "│ 2014-01-01 ┆ 4045    ┆ 37.358547 ┆ -121.86032  │\n",
       "│ 2014-01-01 ┆ 5180    ┆ 37.269485 ┆ -121.81747  │\n",
       "│ 2014-01-01 ┆ 2031    ┆ 37.417297 ┆ -122.07814  │\n",
       "│ 2014-01-01 ┆ 3522    ┆ 37.404118 ┆ -121.866486 │\n",
       "│ 2014-01-01 ┆ 743     ┆ 37.307266 ┆ -121.90355  │\n",
       "└────────────┴─────────┴───────────┴─────────────┘"
      ]
     },
     "execution_count": 7,
     "metadata": {},
     "output_type": "execute_result"
    }
   ],
   "source": [
    "stops_with_dates = dates.join(stops, how=\"cross\")\n",
    "stops_with_dates.head().collect()"
   ]
  },
  {
   "cell_type": "code",
   "execution_count": 8,
   "metadata": {},
   "outputs": [],
   "source": [
    "# formula to calculate the distance. \n",
    "# haversine distance is usually used to calculate distance bw lat and long,\n",
    "# but we are using euclidean distance as all the cordinates are pretty close to each other.\n",
    "def distance(lat1, long1, lat2, long2):\n",
    "    return ((lat1 - lat2) ** 2 + (long1 - long2) ** 2) ** 0.5"
   ]
  },
  {
   "cell_type": "code",
   "execution_count": 9,
   "metadata": {},
   "outputs": [
    {
     "data": {
      "text/html": [
       "<div><style>\n",
       ".dataframe > thead > tr,\n",
       ".dataframe > tbody > tr {\n",
       "  text-align: right;\n",
       "  white-space: pre-wrap;\n",
       "}\n",
       "</style>\n",
       "<small>shape: (5, 7)</small><table border=\"1\" class=\"dataframe\"><thead><tr><th>Stop Id</th><th>Date</th><th>Latitude</th><th>Longitude</th><th>Tmax</th><th>Tmin</th><th>Prcp</th></tr><tr><td>i64</td><td>str</td><td>f64</td><td>f64</td><td>f64</td><td>f64</td><td>f64</td></tr></thead><tbody><tr><td>1</td><td>&quot;2014-01-01&quot;</td><td>37.353054</td><td>-121.93667</td><td>16.7</td><td>1.7</td><td>0.0</td></tr><tr><td>1</td><td>&quot;2014-01-02&quot;</td><td>37.353054</td><td>-121.93667</td><td>18.3</td><td>3.3</td><td>0.0</td></tr><tr><td>1</td><td>&quot;2014-01-03&quot;</td><td>37.353054</td><td>-121.93667</td><td>17.8</td><td>4.4</td><td>0.0</td></tr><tr><td>1</td><td>&quot;2014-01-04&quot;</td><td>37.353054</td><td>-121.93667</td><td>18.9</td><td>3.3</td><td>0.0</td></tr><tr><td>1</td><td>&quot;2014-01-05&quot;</td><td>37.353054</td><td>-121.93667</td><td>18.9</td><td>1.7</td><td>0.0</td></tr></tbody></table></div>"
      ],
      "text/plain": [
       "shape: (5, 7)\n",
       "┌─────────┬────────────┬───────────┬────────────┬──────┬──────┬──────┐\n",
       "│ Stop Id ┆ Date       ┆ Latitude  ┆ Longitude  ┆ Tmax ┆ Tmin ┆ Prcp │\n",
       "│ ---     ┆ ---        ┆ ---       ┆ ---        ┆ ---  ┆ ---  ┆ ---  │\n",
       "│ i64     ┆ str        ┆ f64       ┆ f64        ┆ f64  ┆ f64  ┆ f64  │\n",
       "╞═════════╪════════════╪═══════════╪════════════╪══════╪══════╪══════╡\n",
       "│ 1       ┆ 2014-01-01 ┆ 37.353054 ┆ -121.93667 ┆ 16.7 ┆ 1.7  ┆ 0.0  │\n",
       "│ 1       ┆ 2014-01-02 ┆ 37.353054 ┆ -121.93667 ┆ 18.3 ┆ 3.3  ┆ 0.0  │\n",
       "│ 1       ┆ 2014-01-03 ┆ 37.353054 ┆ -121.93667 ┆ 17.8 ┆ 4.4  ┆ 0.0  │\n",
       "│ 1       ┆ 2014-01-04 ┆ 37.353054 ┆ -121.93667 ┆ 18.9 ┆ 3.3  ┆ 0.0  │\n",
       "│ 1       ┆ 2014-01-05 ┆ 37.353054 ┆ -121.93667 ┆ 18.9 ┆ 1.7  ┆ 0.0  │\n",
       "└─────────┴────────────┴───────────┴────────────┴──────┴──────┴──────┘"
      ]
     },
     "execution_count": 9,
     "metadata": {},
     "output_type": "execute_result"
    }
   ],
   "source": [
    "stops_with_dates_and_climate = (\n",
    "    stops_with_dates.join(climate, on=\"Date\", suffix=\"_station\")  # since both climate and stops have lat and long, sufix climate with _station when both are common.\n",
    "    .with_columns(\n",
    "        [\n",
    "            distance(\n",
    "                pl.col(\"Latitude\"),\n",
    "                pl.col(\"Longitude\"),\n",
    "                pl.col(\"Latitude_station\"),\n",
    "                pl.col(\"Longitude_station\"),\n",
    "            ).alias(\"Distance\")\n",
    "        ]\n",
    "    )\n",
    "    .sort([\"Stop Id\", \"Date\", \"Latitude\", \"Longitude\", \"Distance\"])\n",
    "    .group_by([\"Stop Id\", \"Date\", \"Latitude\", \"Longitude\"], maintain_order=True)\n",
    "    .first()\n",
    "    .select([\"Stop Id\", \"Date\", \"Latitude\", \"Longitude\", \"Tmax\", \"Tmin\", \"Prcp\"])\n",
    ")\n",
    "stops_with_dates_and_climate.head().collect()"
   ]
  },
  {
   "cell_type": "code",
   "execution_count": 10,
   "metadata": {},
   "outputs": [
    {
     "data": {
      "text/html": [
       "<div><style>\n",
       ".dataframe > thead > tr,\n",
       ".dataframe > tbody > tr {\n",
       "  text-align: right;\n",
       "  white-space: pre-wrap;\n",
       "}\n",
       "</style>\n",
       "<small>shape: (5, 15)</small><table border=\"1\" class=\"dataframe\"><thead><tr><th>Year</th><th>Day</th><th>Block</th><th>Line</th><th>Service</th><th>Direction Number</th><th>Sequence</th><th>Stop Id</th><th>Latitude</th><th>Longitude</th><th>Tmax</th><th>Tmin</th><th>Prcp</th><th>On</th><th>Off</th></tr><tr><td>i32</td><td>i16</td><td>i64</td><td>i64</td><td>i64</td><td>i64</td><td>i64</td><td>i64</td><td>f64</td><td>f64</td><td>f64</td><td>f64</td><td>f64</td><td>i64</td><td>i64</td></tr></thead><tbody><tr><td>2014</td><td>1</td><td>131</td><td>181</td><td>3</td><td>0</td><td>1</td><td>3413</td><td>37.330624</td><td>-121.902336</td><td>16.7</td><td>1.7</td><td>0.0</td><td>14</td><td>0</td></tr><tr><td>2014</td><td>1</td><td>131</td><td>181</td><td>3</td><td>0</td><td>3</td><td>3213</td><td>37.335556</td><td>-121.89013</td><td>16.7</td><td>1.7</td><td>0.0</td><td>63</td><td>4</td></tr><tr><td>2014</td><td>1</td><td>131</td><td>181</td><td>3</td><td>0</td><td>4</td><td>3214</td><td>37.338448</td><td>-121.89229</td><td>16.7</td><td>1.7</td><td>0.0</td><td>3</td><td>0</td></tr><tr><td>2014</td><td>1</td><td>131</td><td>181</td><td>3</td><td>0</td><td>5</td><td>22</td><td>37.35186</td><td>-121.90212</td><td>16.7</td><td>1.7</td><td>0.0</td><td>9</td><td>1</td></tr><tr><td>2014</td><td>1</td><td>131</td><td>181</td><td>3</td><td>0</td><td>6</td><td>5317</td><td>37.413536</td><td>-121.89989</td><td>16.7</td><td>1.7</td><td>0.0</td><td>52</td><td>15</td></tr></tbody></table></div>"
      ],
      "text/plain": [
       "shape: (5, 15)\n",
       "┌──────┬─────┬───────┬──────┬───┬──────┬──────┬─────┬─────┐\n",
       "│ Year ┆ Day ┆ Block ┆ Line ┆ … ┆ Tmin ┆ Prcp ┆ On  ┆ Off │\n",
       "│ ---  ┆ --- ┆ ---   ┆ ---  ┆   ┆ ---  ┆ ---  ┆ --- ┆ --- │\n",
       "│ i32  ┆ i16 ┆ i64   ┆ i64  ┆   ┆ f64  ┆ f64  ┆ i64 ┆ i64 │\n",
       "╞══════╪═════╪═══════╪══════╪═══╪══════╪══════╪═════╪═════╡\n",
       "│ 2014 ┆ 1   ┆ 131   ┆ 181  ┆ … ┆ 1.7  ┆ 0.0  ┆ 14  ┆ 0   │\n",
       "│ 2014 ┆ 1   ┆ 131   ┆ 181  ┆ … ┆ 1.7  ┆ 0.0  ┆ 63  ┆ 4   │\n",
       "│ 2014 ┆ 1   ┆ 131   ┆ 181  ┆ … ┆ 1.7  ┆ 0.0  ┆ 3   ┆ 0   │\n",
       "│ 2014 ┆ 1   ┆ 131   ┆ 181  ┆ … ┆ 1.7  ┆ 0.0  ┆ 9   ┆ 1   │\n",
       "│ 2014 ┆ 1   ┆ 131   ┆ 181  ┆ … ┆ 1.7  ┆ 0.0  ┆ 52  ┆ 15  │\n",
       "└──────┴─────┴───────┴──────┴───┴──────┴──────┴─────┴─────┘"
      ]
     },
     "execution_count": 10,
     "metadata": {},
     "output_type": "execute_result"
    }
   ],
   "source": [
    "ridership = (\n",
    "    ridership.join(stops_with_dates_and_climate, on=[\"Date\", \"Stop Id\"], how=\"left\")\n",
    "    .with_columns(pl.col(\"Date\").cast(pl.Date))\n",
    "    .with_columns(\n",
    "        pl.col(\"Date\").dt.year().alias(\"Year\"), # convert date to year\n",
    "        pl.col(\"Date\").dt.ordinal_day().alias(\"Day\"), # convert date to day of year or ordinal date\n",
    "    )\n",
    "    .drop(\"Date\")\n",
    "    .select(\n",
    "        [\n",
    "            \"Year\",\n",
    "            \"Day\",\n",
    "            \"Block\",\n",
    "            \"Line\",\n",
    "            \"Service\",\n",
    "            \"Direction Number\",\n",
    "            #\"From Time\",\n",
    "            \"Sequence\",\n",
    "            \"Stop Id\",\n",
    "            \"Latitude\",\n",
    "            \"Longitude\",\n",
    "            \"Tmax\",\n",
    "            \"Tmin\",\n",
    "            \"Prcp\",\n",
    "            \"On\",\n",
    "            \"Off\",\n",
    "        ]\n",
    "    )\n",
    "    .sort(\n",
    "        [\n",
    "            \"Year\",\n",
    "            \"Day\",\n",
    "            \"Block\",\n",
    "            \"Line\",\n",
    "            \"Service\",\n",
    "            \"Direction Number\",\n",
    "            #\"From Time\",\n",
    "            \"Sequence\",\n",
    "        ]\n",
    "    )\n",
    ")\n",
    "ridership.head().collect()"
   ]
  },
  {
   "cell_type": "code",
   "execution_count": 11,
   "metadata": {},
   "outputs": [],
   "source": [
    "ridership.collect(streaming=True).write_csv(\n",
    "    os.path.join(CLEAN_DATA_FOLDER, \"ridership.csv\")\n",
    ")"
   ]
  }
 ],
 "metadata": {
  "kernelspec": {
   "display_name": "Python 3",
   "language": "python",
   "name": "python3"
  },
  "language_info": {
   "codemirror_mode": {
    "name": "ipython",
    "version": 3
   },
   "file_extension": ".py",
   "mimetype": "text/x-python",
   "name": "python",
   "nbconvert_exporter": "python",
   "pygments_lexer": "ipython3",
   "version": "3.11.4"
  }
 },
 "nbformat": 4,
 "nbformat_minor": 2
}
